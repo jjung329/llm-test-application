{
 "cells": [
  {
   "cell_type": "code",
   "execution_count": 21,
   "metadata": {},
   "outputs": [
    {
     "name": "stdout",
     "output_type": "stream",
     "text": [
      "Note: you may need to restart the kernel to use updated packages.\n"
     ]
    },
    {
     "name": "stderr",
     "output_type": "stream",
     "text": [
      "ERROR: pip's dependency resolver does not currently take into account all the packages that are installed. This behaviour is the source of the following dependency conflicts.\n",
      "langchain-chroma 0.1.0 requires langchain-core<0.2.0,>=0.1.40, but you have langchain-core 0.3.10 which is incompatible.\n"
     ]
    }
   ],
   "source": [
    "%pip install --upgrade --quiet  \\\n",
    "langchain-pinecone  \\\n",
    "langchain  \\\n",
    "langchain-text-splitters  \\\n",
    "mysql-connector-python  \\\n",
    "langsmith"
   ]
  },
  {
   "cell_type": "code",
   "execution_count": 22,
   "metadata": {},
   "outputs": [
    {
     "name": "stdout",
     "output_type": "stream",
     "text": [
      "Note: you may need to restart the kernel to use updated packages.\n"
     ]
    },
    {
     "name": "stderr",
     "output_type": "stream",
     "text": [
      "\n",
      "Usage:   \n",
      "  c:\\Users\\LDCC\\IdeaProjects\\inflearn-llm-application\\.venv\\Scripts\\python.exe -m pip install [options] <requirement specifier> [package-index-options] ...\n",
      "  c:\\Users\\LDCC\\IdeaProjects\\inflearn-llm-application\\.venv\\Scripts\\python.exe -m pip install [options] -r <requirements file> [package-index-options] ...\n",
      "  c:\\Users\\LDCC\\IdeaProjects\\inflearn-llm-application\\.venv\\Scripts\\python.exe -m pip install [options] [-e] <vcs project url> ...\n",
      "  c:\\Users\\LDCC\\IdeaProjects\\inflearn-llm-application\\.venv\\Scripts\\python.exe -m pip install [options] [-e] <local project path> ...\n",
      "  c:\\Users\\LDCC\\IdeaProjects\\inflearn-llm-application\\.venv\\Scripts\\python.exe -m pip install [options] <archive url/path> ...\n",
      "\n",
      "no such option: --quite\n"
     ]
    }
   ],
   "source": [
    "%pip install -U langchain langchainhub --quite"
   ]
  },
  {
   "cell_type": "code",
   "execution_count": 23,
   "metadata": {},
   "outputs": [
    {
     "name": "stdout",
     "output_type": "stream",
     "text": [
      "Requirement already satisfied: langchain-upstage==0.3.0 in c:\\users\\ldcc\\ideaprojects\\inflearn-llm-application\\.venv\\lib\\site-packages (0.3.0)\n",
      "Requirement already satisfied: langchain-core<0.4,>=0.3.0 in c:\\users\\ldcc\\ideaprojects\\inflearn-llm-application\\.venv\\lib\\site-packages (from langchain-upstage==0.3.0) (0.3.10)\n",
      "Requirement already satisfied: langchain-openai<0.3,>=0.2 in c:\\users\\ldcc\\ideaprojects\\inflearn-llm-application\\.venv\\lib\\site-packages (from langchain-upstage==0.3.0) (0.2.2)\n",
      "Requirement already satisfied: pypdf<5.0.0,>=4.2.0 in c:\\users\\ldcc\\ideaprojects\\inflearn-llm-application\\.venv\\lib\\site-packages (from langchain-upstage==0.3.0) (4.3.1)\n",
      "Requirement already satisfied: requests<3.0.0,>=2.31.0 in c:\\users\\ldcc\\ideaprojects\\inflearn-llm-application\\.venv\\lib\\site-packages (from langchain-upstage==0.3.0) (2.32.3)\n",
      "Requirement already satisfied: tokenizers<0.20.0,>=0.19.1 in c:\\users\\ldcc\\ideaprojects\\inflearn-llm-application\\.venv\\lib\\site-packages (from langchain-upstage==0.3.0) (0.19.1)\n",
      "Requirement already satisfied: PyYAML>=5.3 in c:\\users\\ldcc\\ideaprojects\\inflearn-llm-application\\.venv\\lib\\site-packages (from langchain-core<0.4,>=0.3.0->langchain-upstage==0.3.0) (6.0.2)\n",
      "Requirement already satisfied: jsonpatch<2.0,>=1.33 in c:\\users\\ldcc\\ideaprojects\\inflearn-llm-application\\.venv\\lib\\site-packages (from langchain-core<0.4,>=0.3.0->langchain-upstage==0.3.0) (1.33)\n",
      "Requirement already satisfied: langsmith<0.2.0,>=0.1.125 in c:\\users\\ldcc\\ideaprojects\\inflearn-llm-application\\.venv\\lib\\site-packages (from langchain-core<0.4,>=0.3.0->langchain-upstage==0.3.0) (0.1.134)\n",
      "Requirement already satisfied: packaging<25,>=23.2 in c:\\users\\ldcc\\ideaprojects\\inflearn-llm-application\\.venv\\lib\\site-packages (from langchain-core<0.4,>=0.3.0->langchain-upstage==0.3.0) (23.2)\n",
      "Requirement already satisfied: pydantic<3.0.0,>=2.5.2 in c:\\users\\ldcc\\ideaprojects\\inflearn-llm-application\\.venv\\lib\\site-packages (from langchain-core<0.4,>=0.3.0->langchain-upstage==0.3.0) (2.9.2)\n",
      "Requirement already satisfied: tenacity!=8.4.0,<9.0.0,>=8.1.0 in c:\\users\\ldcc\\ideaprojects\\inflearn-llm-application\\.venv\\lib\\site-packages (from langchain-core<0.4,>=0.3.0->langchain-upstage==0.3.0) (8.5.0)\n",
      "Requirement already satisfied: typing-extensions>=4.7 in c:\\users\\ldcc\\ideaprojects\\inflearn-llm-application\\.venv\\lib\\site-packages (from langchain-core<0.4,>=0.3.0->langchain-upstage==0.3.0) (4.12.2)\n",
      "Requirement already satisfied: openai<2.0.0,>=1.40.0 in c:\\users\\ldcc\\ideaprojects\\inflearn-llm-application\\.venv\\lib\\site-packages (from langchain-openai<0.3,>=0.2->langchain-upstage==0.3.0) (1.51.1)\n",
      "Requirement already satisfied: tiktoken<1,>=0.7 in c:\\users\\ldcc\\ideaprojects\\inflearn-llm-application\\.venv\\lib\\site-packages (from langchain-openai<0.3,>=0.2->langchain-upstage==0.3.0) (0.8.0)\n",
      "Requirement already satisfied: charset-normalizer<4,>=2 in c:\\users\\ldcc\\ideaprojects\\inflearn-llm-application\\.venv\\lib\\site-packages (from requests<3.0.0,>=2.31.0->langchain-upstage==0.3.0) (3.3.2)\n",
      "Requirement already satisfied: idna<4,>=2.5 in c:\\users\\ldcc\\ideaprojects\\inflearn-llm-application\\.venv\\lib\\site-packages (from requests<3.0.0,>=2.31.0->langchain-upstage==0.3.0) (3.10)\n",
      "Requirement already satisfied: urllib3<3,>=1.21.1 in c:\\users\\ldcc\\ideaprojects\\inflearn-llm-application\\.venv\\lib\\site-packages (from requests<3.0.0,>=2.31.0->langchain-upstage==0.3.0) (2.2.3)\n",
      "Requirement already satisfied: certifi>=2017.4.17 in c:\\users\\ldcc\\ideaprojects\\inflearn-llm-application\\.venv\\lib\\site-packages (from requests<3.0.0,>=2.31.0->langchain-upstage==0.3.0) (2024.8.30)\n",
      "Requirement already satisfied: huggingface-hub<1.0,>=0.16.4 in c:\\users\\ldcc\\ideaprojects\\inflearn-llm-application\\.venv\\lib\\site-packages (from tokenizers<0.20.0,>=0.19.1->langchain-upstage==0.3.0) (0.25.2)\n",
      "Requirement already satisfied: filelock in c:\\users\\ldcc\\ideaprojects\\inflearn-llm-application\\.venv\\lib\\site-packages (from huggingface-hub<1.0,>=0.16.4->tokenizers<0.20.0,>=0.19.1->langchain-upstage==0.3.0) (3.16.1)\n",
      "Requirement already satisfied: fsspec>=2023.5.0 in c:\\users\\ldcc\\ideaprojects\\inflearn-llm-application\\.venv\\lib\\site-packages (from huggingface-hub<1.0,>=0.16.4->tokenizers<0.20.0,>=0.19.1->langchain-upstage==0.3.0) (2024.9.0)\n",
      "Requirement already satisfied: tqdm>=4.42.1 in c:\\users\\ldcc\\ideaprojects\\inflearn-llm-application\\.venv\\lib\\site-packages (from huggingface-hub<1.0,>=0.16.4->tokenizers<0.20.0,>=0.19.1->langchain-upstage==0.3.0) (4.66.5)\n",
      "Requirement already satisfied: jsonpointer>=1.9 in c:\\users\\ldcc\\ideaprojects\\inflearn-llm-application\\.venv\\lib\\site-packages (from jsonpatch<2.0,>=1.33->langchain-core<0.4,>=0.3.0->langchain-upstage==0.3.0) (3.0.0)\n",
      "Requirement already satisfied: httpx<1,>=0.23.0 in c:\\users\\ldcc\\ideaprojects\\inflearn-llm-application\\.venv\\lib\\site-packages (from langsmith<0.2.0,>=0.1.125->langchain-core<0.4,>=0.3.0->langchain-upstage==0.3.0) (0.27.2)\n",
      "Requirement already satisfied: orjson<4.0.0,>=3.9.14 in c:\\users\\ldcc\\ideaprojects\\inflearn-llm-application\\.venv\\lib\\site-packages (from langsmith<0.2.0,>=0.1.125->langchain-core<0.4,>=0.3.0->langchain-upstage==0.3.0) (3.10.7)\n",
      "Requirement already satisfied: requests-toolbelt<2.0.0,>=1.0.0 in c:\\users\\ldcc\\ideaprojects\\inflearn-llm-application\\.venv\\lib\\site-packages (from langsmith<0.2.0,>=0.1.125->langchain-core<0.4,>=0.3.0->langchain-upstage==0.3.0) (1.0.0)\n",
      "Requirement already satisfied: anyio<5,>=3.5.0 in c:\\users\\ldcc\\ideaprojects\\inflearn-llm-application\\.venv\\lib\\site-packages (from openai<2.0.0,>=1.40.0->langchain-openai<0.3,>=0.2->langchain-upstage==0.3.0) (4.6.0)\n",
      "Requirement already satisfied: distro<2,>=1.7.0 in c:\\users\\ldcc\\ideaprojects\\inflearn-llm-application\\.venv\\lib\\site-packages (from openai<2.0.0,>=1.40.0->langchain-openai<0.3,>=0.2->langchain-upstage==0.3.0) (1.9.0)\n",
      "Requirement already satisfied: jiter<1,>=0.4.0 in c:\\users\\ldcc\\ideaprojects\\inflearn-llm-application\\.venv\\lib\\site-packages (from openai<2.0.0,>=1.40.0->langchain-openai<0.3,>=0.2->langchain-upstage==0.3.0) (0.6.0)\n",
      "Requirement already satisfied: sniffio in c:\\users\\ldcc\\ideaprojects\\inflearn-llm-application\\.venv\\lib\\site-packages (from openai<2.0.0,>=1.40.0->langchain-openai<0.3,>=0.2->langchain-upstage==0.3.0) (1.3.1)\n",
      "Requirement already satisfied: annotated-types>=0.6.0 in c:\\users\\ldcc\\ideaprojects\\inflearn-llm-application\\.venv\\lib\\site-packages (from pydantic<3.0.0,>=2.5.2->langchain-core<0.4,>=0.3.0->langchain-upstage==0.3.0) (0.7.0)\n",
      "Requirement already satisfied: pydantic-core==2.23.4 in c:\\users\\ldcc\\ideaprojects\\inflearn-llm-application\\.venv\\lib\\site-packages (from pydantic<3.0.0,>=2.5.2->langchain-core<0.4,>=0.3.0->langchain-upstage==0.3.0) (2.23.4)\n",
      "Requirement already satisfied: regex>=2022.1.18 in c:\\users\\ldcc\\ideaprojects\\inflearn-llm-application\\.venv\\lib\\site-packages (from tiktoken<1,>=0.7->langchain-openai<0.3,>=0.2->langchain-upstage==0.3.0) (2024.9.11)\n",
      "Requirement already satisfied: exceptiongroup>=1.0.2 in c:\\users\\ldcc\\ideaprojects\\inflearn-llm-application\\.venv\\lib\\site-packages (from anyio<5,>=3.5.0->openai<2.0.0,>=1.40.0->langchain-openai<0.3,>=0.2->langchain-upstage==0.3.0) (1.2.2)\n",
      "Requirement already satisfied: httpcore==1.* in c:\\users\\ldcc\\ideaprojects\\inflearn-llm-application\\.venv\\lib\\site-packages (from httpx<1,>=0.23.0->langsmith<0.2.0,>=0.1.125->langchain-core<0.4,>=0.3.0->langchain-upstage==0.3.0) (1.0.6)\n",
      "Requirement already satisfied: h11<0.15,>=0.13 in c:\\users\\ldcc\\ideaprojects\\inflearn-llm-application\\.venv\\lib\\site-packages (from httpcore==1.*->httpx<1,>=0.23.0->langsmith<0.2.0,>=0.1.125->langchain-core<0.4,>=0.3.0->langchain-upstage==0.3.0) (0.14.0)\n",
      "Requirement already satisfied: colorama in c:\\users\\ldcc\\ideaprojects\\inflearn-llm-application\\.venv\\lib\\site-packages (from tqdm>=4.42.1->huggingface-hub<1.0,>=0.16.4->tokenizers<0.20.0,>=0.19.1->langchain-upstage==0.3.0) (0.4.6)\n",
      "Note: you may need to restart the kernel to use updated packages.\n"
     ]
    }
   ],
   "source": [
    "%pip install  langchain-upstage==0.3.0\n"
   ]
  },
  {
   "cell_type": "code",
   "execution_count": 24,
   "metadata": {},
   "outputs": [
    {
     "name": "stdout",
     "output_type": "stream",
     "text": [
      "Requirement already satisfied: langchain-chroma==0.1.0 in c:\\users\\ldcc\\ideaprojects\\inflearn-llm-application\\.venv\\lib\\site-packages (0.1.0)\n",
      "Requirement already satisfied: chromadb<0.5.0,>=0.4.0 in c:\\users\\ldcc\\ideaprojects\\inflearn-llm-application\\.venv\\lib\\site-packages (from langchain-chroma==0.1.0) (0.4.24)\n",
      "Requirement already satisfied: fastapi<1,>=0.95.2 in c:\\users\\ldcc\\ideaprojects\\inflearn-llm-application\\.venv\\lib\\site-packages (from langchain-chroma==0.1.0) (0.115.0)\n",
      "Collecting langchain-core<0.2.0,>=0.1.40 (from langchain-chroma==0.1.0)\n",
      "  Using cached langchain_core-0.1.52-py3-none-any.whl.metadata (5.9 kB)\n",
      "Requirement already satisfied: numpy<2,>=1 in c:\\users\\ldcc\\ideaprojects\\inflearn-llm-application\\.venv\\lib\\site-packages (from langchain-chroma==0.1.0) (1.26.4)\n",
      "Requirement already satisfied: build>=1.0.3 in c:\\users\\ldcc\\ideaprojects\\inflearn-llm-application\\.venv\\lib\\site-packages (from chromadb<0.5.0,>=0.4.0->langchain-chroma==0.1.0) (1.2.2.post1)\n",
      "Requirement already satisfied: requests>=2.28 in c:\\users\\ldcc\\ideaprojects\\inflearn-llm-application\\.venv\\lib\\site-packages (from chromadb<0.5.0,>=0.4.0->langchain-chroma==0.1.0) (2.32.3)\n",
      "Requirement already satisfied: pydantic>=1.9 in c:\\users\\ldcc\\ideaprojects\\inflearn-llm-application\\.venv\\lib\\site-packages (from chromadb<0.5.0,>=0.4.0->langchain-chroma==0.1.0) (2.9.2)\n",
      "Requirement already satisfied: chroma-hnswlib==0.7.3 in c:\\users\\ldcc\\ideaprojects\\inflearn-llm-application\\.venv\\lib\\site-packages (from chromadb<0.5.0,>=0.4.0->langchain-chroma==0.1.0) (0.7.3)\n",
      "Requirement already satisfied: uvicorn>=0.18.3 in c:\\users\\ldcc\\ideaprojects\\inflearn-llm-application\\.venv\\lib\\site-packages (from uvicorn[standard]>=0.18.3->chromadb<0.5.0,>=0.4.0->langchain-chroma==0.1.0) (0.31.1)\n",
      "Requirement already satisfied: posthog>=2.4.0 in c:\\users\\ldcc\\ideaprojects\\inflearn-llm-application\\.venv\\lib\\site-packages (from chromadb<0.5.0,>=0.4.0->langchain-chroma==0.1.0) (3.7.0)\n",
      "Requirement already satisfied: typing-extensions>=4.5.0 in c:\\users\\ldcc\\ideaprojects\\inflearn-llm-application\\.venv\\lib\\site-packages (from chromadb<0.5.0,>=0.4.0->langchain-chroma==0.1.0) (4.12.2)\n",
      "Requirement already satisfied: pulsar-client>=3.1.0 in c:\\users\\ldcc\\ideaprojects\\inflearn-llm-application\\.venv\\lib\\site-packages (from chromadb<0.5.0,>=0.4.0->langchain-chroma==0.1.0) (3.5.0)\n",
      "Requirement already satisfied: onnxruntime>=1.14.1 in c:\\users\\ldcc\\ideaprojects\\inflearn-llm-application\\.venv\\lib\\site-packages (from chromadb<0.5.0,>=0.4.0->langchain-chroma==0.1.0) (1.19.2)\n",
      "Requirement already satisfied: opentelemetry-api>=1.2.0 in c:\\users\\ldcc\\ideaprojects\\inflearn-llm-application\\.venv\\lib\\site-packages (from chromadb<0.5.0,>=0.4.0->langchain-chroma==0.1.0) (1.27.0)\n",
      "Requirement already satisfied: opentelemetry-exporter-otlp-proto-grpc>=1.2.0 in c:\\users\\ldcc\\ideaprojects\\inflearn-llm-application\\.venv\\lib\\site-packages (from chromadb<0.5.0,>=0.4.0->langchain-chroma==0.1.0) (1.27.0)\n",
      "Requirement already satisfied: opentelemetry-instrumentation-fastapi>=0.41b0 in c:\\users\\ldcc\\ideaprojects\\inflearn-llm-application\\.venv\\lib\\site-packages (from chromadb<0.5.0,>=0.4.0->langchain-chroma==0.1.0) (0.48b0)\n",
      "Requirement already satisfied: opentelemetry-sdk>=1.2.0 in c:\\users\\ldcc\\ideaprojects\\inflearn-llm-application\\.venv\\lib\\site-packages (from chromadb<0.5.0,>=0.4.0->langchain-chroma==0.1.0) (1.27.0)\n",
      "Requirement already satisfied: tokenizers>=0.13.2 in c:\\users\\ldcc\\ideaprojects\\inflearn-llm-application\\.venv\\lib\\site-packages (from chromadb<0.5.0,>=0.4.0->langchain-chroma==0.1.0) (0.19.1)\n",
      "Requirement already satisfied: pypika>=0.48.9 in c:\\users\\ldcc\\ideaprojects\\inflearn-llm-application\\.venv\\lib\\site-packages (from chromadb<0.5.0,>=0.4.0->langchain-chroma==0.1.0) (0.48.9)\n",
      "Requirement already satisfied: tqdm>=4.65.0 in c:\\users\\ldcc\\ideaprojects\\inflearn-llm-application\\.venv\\lib\\site-packages (from chromadb<0.5.0,>=0.4.0->langchain-chroma==0.1.0) (4.66.5)\n",
      "Requirement already satisfied: overrides>=7.3.1 in c:\\users\\ldcc\\ideaprojects\\inflearn-llm-application\\.venv\\lib\\site-packages (from chromadb<0.5.0,>=0.4.0->langchain-chroma==0.1.0) (7.7.0)\n",
      "Requirement already satisfied: importlib-resources in c:\\users\\ldcc\\ideaprojects\\inflearn-llm-application\\.venv\\lib\\site-packages (from chromadb<0.5.0,>=0.4.0->langchain-chroma==0.1.0) (6.4.5)\n",
      "Requirement already satisfied: grpcio>=1.58.0 in c:\\users\\ldcc\\ideaprojects\\inflearn-llm-application\\.venv\\lib\\site-packages (from chromadb<0.5.0,>=0.4.0->langchain-chroma==0.1.0) (1.66.2)\n",
      "Requirement already satisfied: bcrypt>=4.0.1 in c:\\users\\ldcc\\ideaprojects\\inflearn-llm-application\\.venv\\lib\\site-packages (from chromadb<0.5.0,>=0.4.0->langchain-chroma==0.1.0) (4.2.0)\n",
      "Requirement already satisfied: typer>=0.9.0 in c:\\users\\ldcc\\ideaprojects\\inflearn-llm-application\\.venv\\lib\\site-packages (from chromadb<0.5.0,>=0.4.0->langchain-chroma==0.1.0) (0.12.5)\n",
      "Requirement already satisfied: kubernetes>=28.1.0 in c:\\users\\ldcc\\ideaprojects\\inflearn-llm-application\\.venv\\lib\\site-packages (from chromadb<0.5.0,>=0.4.0->langchain-chroma==0.1.0) (31.0.0)\n",
      "Requirement already satisfied: tenacity>=8.2.3 in c:\\users\\ldcc\\ideaprojects\\inflearn-llm-application\\.venv\\lib\\site-packages (from chromadb<0.5.0,>=0.4.0->langchain-chroma==0.1.0) (8.5.0)\n",
      "Requirement already satisfied: PyYAML>=6.0.0 in c:\\users\\ldcc\\ideaprojects\\inflearn-llm-application\\.venv\\lib\\site-packages (from chromadb<0.5.0,>=0.4.0->langchain-chroma==0.1.0) (6.0.2)\n",
      "Requirement already satisfied: mmh3>=4.0.1 in c:\\users\\ldcc\\ideaprojects\\inflearn-llm-application\\.venv\\lib\\site-packages (from chromadb<0.5.0,>=0.4.0->langchain-chroma==0.1.0) (5.0.1)\n",
      "Requirement already satisfied: orjson>=3.9.12 in c:\\users\\ldcc\\ideaprojects\\inflearn-llm-application\\.venv\\lib\\site-packages (from chromadb<0.5.0,>=0.4.0->langchain-chroma==0.1.0) (3.10.7)\n",
      "Requirement already satisfied: starlette<0.39.0,>=0.37.2 in c:\\users\\ldcc\\ideaprojects\\inflearn-llm-application\\.venv\\lib\\site-packages (from fastapi<1,>=0.95.2->langchain-chroma==0.1.0) (0.38.6)\n",
      "Requirement already satisfied: jsonpatch<2.0,>=1.33 in c:\\users\\ldcc\\ideaprojects\\inflearn-llm-application\\.venv\\lib\\site-packages (from langchain-core<0.2.0,>=0.1.40->langchain-chroma==0.1.0) (1.33)\n",
      "Requirement already satisfied: langsmith<0.2.0,>=0.1.0 in c:\\users\\ldcc\\ideaprojects\\inflearn-llm-application\\.venv\\lib\\site-packages (from langchain-core<0.2.0,>=0.1.40->langchain-chroma==0.1.0) (0.1.134)\n",
      "Requirement already satisfied: packaging<24.0,>=23.2 in c:\\users\\ldcc\\ideaprojects\\inflearn-llm-application\\.venv\\lib\\site-packages (from langchain-core<0.2.0,>=0.1.40->langchain-chroma==0.1.0) (23.2)\n",
      "Requirement already satisfied: pyproject_hooks in c:\\users\\ldcc\\ideaprojects\\inflearn-llm-application\\.venv\\lib\\site-packages (from build>=1.0.3->chromadb<0.5.0,>=0.4.0->langchain-chroma==0.1.0) (1.2.0)\n",
      "Requirement already satisfied: colorama in c:\\users\\ldcc\\ideaprojects\\inflearn-llm-application\\.venv\\lib\\site-packages (from build>=1.0.3->chromadb<0.5.0,>=0.4.0->langchain-chroma==0.1.0) (0.4.6)\n",
      "Requirement already satisfied: tomli>=1.1.0 in c:\\users\\ldcc\\ideaprojects\\inflearn-llm-application\\.venv\\lib\\site-packages (from build>=1.0.3->chromadb<0.5.0,>=0.4.0->langchain-chroma==0.1.0) (2.0.2)\n",
      "Requirement already satisfied: jsonpointer>=1.9 in c:\\users\\ldcc\\ideaprojects\\inflearn-llm-application\\.venv\\lib\\site-packages (from jsonpatch<2.0,>=1.33->langchain-core<0.2.0,>=0.1.40->langchain-chroma==0.1.0) (3.0.0)\n",
      "Requirement already satisfied: certifi>=14.05.14 in c:\\users\\ldcc\\ideaprojects\\inflearn-llm-application\\.venv\\lib\\site-packages (from kubernetes>=28.1.0->chromadb<0.5.0,>=0.4.0->langchain-chroma==0.1.0) (2024.8.30)\n",
      "Requirement already satisfied: six>=1.9.0 in c:\\users\\ldcc\\ideaprojects\\inflearn-llm-application\\.venv\\lib\\site-packages (from kubernetes>=28.1.0->chromadb<0.5.0,>=0.4.0->langchain-chroma==0.1.0) (1.16.0)\n",
      "Requirement already satisfied: python-dateutil>=2.5.3 in c:\\users\\ldcc\\ideaprojects\\inflearn-llm-application\\.venv\\lib\\site-packages (from kubernetes>=28.1.0->chromadb<0.5.0,>=0.4.0->langchain-chroma==0.1.0) (2.9.0.post0)\n",
      "Requirement already satisfied: google-auth>=1.0.1 in c:\\users\\ldcc\\ideaprojects\\inflearn-llm-application\\.venv\\lib\\site-packages (from kubernetes>=28.1.0->chromadb<0.5.0,>=0.4.0->langchain-chroma==0.1.0) (2.35.0)\n",
      "Requirement already satisfied: websocket-client!=0.40.0,!=0.41.*,!=0.42.*,>=0.32.0 in c:\\users\\ldcc\\ideaprojects\\inflearn-llm-application\\.venv\\lib\\site-packages (from kubernetes>=28.1.0->chromadb<0.5.0,>=0.4.0->langchain-chroma==0.1.0) (1.8.0)\n",
      "Requirement already satisfied: requests-oauthlib in c:\\users\\ldcc\\ideaprojects\\inflearn-llm-application\\.venv\\lib\\site-packages (from kubernetes>=28.1.0->chromadb<0.5.0,>=0.4.0->langchain-chroma==0.1.0) (2.0.0)\n",
      "Requirement already satisfied: oauthlib>=3.2.2 in c:\\users\\ldcc\\ideaprojects\\inflearn-llm-application\\.venv\\lib\\site-packages (from kubernetes>=28.1.0->chromadb<0.5.0,>=0.4.0->langchain-chroma==0.1.0) (3.2.2)\n",
      "Requirement already satisfied: urllib3>=1.24.2 in c:\\users\\ldcc\\ideaprojects\\inflearn-llm-application\\.venv\\lib\\site-packages (from kubernetes>=28.1.0->chromadb<0.5.0,>=0.4.0->langchain-chroma==0.1.0) (2.2.3)\n",
      "Requirement already satisfied: durationpy>=0.7 in c:\\users\\ldcc\\ideaprojects\\inflearn-llm-application\\.venv\\lib\\site-packages (from kubernetes>=28.1.0->chromadb<0.5.0,>=0.4.0->langchain-chroma==0.1.0) (0.9)\n",
      "Requirement already satisfied: httpx<1,>=0.23.0 in c:\\users\\ldcc\\ideaprojects\\inflearn-llm-application\\.venv\\lib\\site-packages (from langsmith<0.2.0,>=0.1.0->langchain-core<0.2.0,>=0.1.40->langchain-chroma==0.1.0) (0.27.2)\n",
      "Requirement already satisfied: requests-toolbelt<2.0.0,>=1.0.0 in c:\\users\\ldcc\\ideaprojects\\inflearn-llm-application\\.venv\\lib\\site-packages (from langsmith<0.2.0,>=0.1.0->langchain-core<0.2.0,>=0.1.40->langchain-chroma==0.1.0) (1.0.0)\n",
      "Requirement already satisfied: coloredlogs in c:\\users\\ldcc\\ideaprojects\\inflearn-llm-application\\.venv\\lib\\site-packages (from onnxruntime>=1.14.1->chromadb<0.5.0,>=0.4.0->langchain-chroma==0.1.0) (15.0.1)\n",
      "Requirement already satisfied: flatbuffers in c:\\users\\ldcc\\ideaprojects\\inflearn-llm-application\\.venv\\lib\\site-packages (from onnxruntime>=1.14.1->chromadb<0.5.0,>=0.4.0->langchain-chroma==0.1.0) (24.3.25)\n",
      "Requirement already satisfied: protobuf in c:\\users\\ldcc\\ideaprojects\\inflearn-llm-application\\.venv\\lib\\site-packages (from onnxruntime>=1.14.1->chromadb<0.5.0,>=0.4.0->langchain-chroma==0.1.0) (4.25.5)\n",
      "Requirement already satisfied: sympy in c:\\users\\ldcc\\ideaprojects\\inflearn-llm-application\\.venv\\lib\\site-packages (from onnxruntime>=1.14.1->chromadb<0.5.0,>=0.4.0->langchain-chroma==0.1.0) (1.13.3)\n",
      "Requirement already satisfied: deprecated>=1.2.6 in c:\\users\\ldcc\\ideaprojects\\inflearn-llm-application\\.venv\\lib\\site-packages (from opentelemetry-api>=1.2.0->chromadb<0.5.0,>=0.4.0->langchain-chroma==0.1.0) (1.2.14)\n",
      "Requirement already satisfied: importlib-metadata<=8.4.0,>=6.0 in c:\\users\\ldcc\\ideaprojects\\inflearn-llm-application\\.venv\\lib\\site-packages (from opentelemetry-api>=1.2.0->chromadb<0.5.0,>=0.4.0->langchain-chroma==0.1.0) (8.4.0)\n",
      "Requirement already satisfied: googleapis-common-protos~=1.52 in c:\\users\\ldcc\\ideaprojects\\inflearn-llm-application\\.venv\\lib\\site-packages (from opentelemetry-exporter-otlp-proto-grpc>=1.2.0->chromadb<0.5.0,>=0.4.0->langchain-chroma==0.1.0) (1.65.0)\n",
      "Requirement already satisfied: opentelemetry-exporter-otlp-proto-common==1.27.0 in c:\\users\\ldcc\\ideaprojects\\inflearn-llm-application\\.venv\\lib\\site-packages (from opentelemetry-exporter-otlp-proto-grpc>=1.2.0->chromadb<0.5.0,>=0.4.0->langchain-chroma==0.1.0) (1.27.0)\n",
      "Requirement already satisfied: opentelemetry-proto==1.27.0 in c:\\users\\ldcc\\ideaprojects\\inflearn-llm-application\\.venv\\lib\\site-packages (from opentelemetry-exporter-otlp-proto-grpc>=1.2.0->chromadb<0.5.0,>=0.4.0->langchain-chroma==0.1.0) (1.27.0)\n",
      "Requirement already satisfied: opentelemetry-instrumentation-asgi==0.48b0 in c:\\users\\ldcc\\ideaprojects\\inflearn-llm-application\\.venv\\lib\\site-packages (from opentelemetry-instrumentation-fastapi>=0.41b0->chromadb<0.5.0,>=0.4.0->langchain-chroma==0.1.0) (0.48b0)\n",
      "Requirement already satisfied: opentelemetry-instrumentation==0.48b0 in c:\\users\\ldcc\\ideaprojects\\inflearn-llm-application\\.venv\\lib\\site-packages (from opentelemetry-instrumentation-fastapi>=0.41b0->chromadb<0.5.0,>=0.4.0->langchain-chroma==0.1.0) (0.48b0)\n",
      "Requirement already satisfied: opentelemetry-semantic-conventions==0.48b0 in c:\\users\\ldcc\\ideaprojects\\inflearn-llm-application\\.venv\\lib\\site-packages (from opentelemetry-instrumentation-fastapi>=0.41b0->chromadb<0.5.0,>=0.4.0->langchain-chroma==0.1.0) (0.48b0)\n",
      "Requirement already satisfied: opentelemetry-util-http==0.48b0 in c:\\users\\ldcc\\ideaprojects\\inflearn-llm-application\\.venv\\lib\\site-packages (from opentelemetry-instrumentation-fastapi>=0.41b0->chromadb<0.5.0,>=0.4.0->langchain-chroma==0.1.0) (0.48b0)\n",
      "Requirement already satisfied: setuptools>=16.0 in c:\\users\\ldcc\\ideaprojects\\inflearn-llm-application\\.venv\\lib\\site-packages (from opentelemetry-instrumentation==0.48b0->opentelemetry-instrumentation-fastapi>=0.41b0->chromadb<0.5.0,>=0.4.0->langchain-chroma==0.1.0) (65.5.0)\n",
      "Requirement already satisfied: wrapt<2.0.0,>=1.0.0 in c:\\users\\ldcc\\ideaprojects\\inflearn-llm-application\\.venv\\lib\\site-packages (from opentelemetry-instrumentation==0.48b0->opentelemetry-instrumentation-fastapi>=0.41b0->chromadb<0.5.0,>=0.4.0->langchain-chroma==0.1.0) (1.16.0)\n",
      "Requirement already satisfied: asgiref~=3.0 in c:\\users\\ldcc\\ideaprojects\\inflearn-llm-application\\.venv\\lib\\site-packages (from opentelemetry-instrumentation-asgi==0.48b0->opentelemetry-instrumentation-fastapi>=0.41b0->chromadb<0.5.0,>=0.4.0->langchain-chroma==0.1.0) (3.8.1)\n",
      "Requirement already satisfied: monotonic>=1.5 in c:\\users\\ldcc\\ideaprojects\\inflearn-llm-application\\.venv\\lib\\site-packages (from posthog>=2.4.0->chromadb<0.5.0,>=0.4.0->langchain-chroma==0.1.0) (1.6)\n",
      "Requirement already satisfied: backoff>=1.10.0 in c:\\users\\ldcc\\ideaprojects\\inflearn-llm-application\\.venv\\lib\\site-packages (from posthog>=2.4.0->chromadb<0.5.0,>=0.4.0->langchain-chroma==0.1.0) (2.2.1)\n",
      "Requirement already satisfied: annotated-types>=0.6.0 in c:\\users\\ldcc\\ideaprojects\\inflearn-llm-application\\.venv\\lib\\site-packages (from pydantic>=1.9->chromadb<0.5.0,>=0.4.0->langchain-chroma==0.1.0) (0.7.0)\n",
      "Requirement already satisfied: pydantic-core==2.23.4 in c:\\users\\ldcc\\ideaprojects\\inflearn-llm-application\\.venv\\lib\\site-packages (from pydantic>=1.9->chromadb<0.5.0,>=0.4.0->langchain-chroma==0.1.0) (2.23.4)\n",
      "Requirement already satisfied: charset-normalizer<4,>=2 in c:\\users\\ldcc\\ideaprojects\\inflearn-llm-application\\.venv\\lib\\site-packages (from requests>=2.28->chromadb<0.5.0,>=0.4.0->langchain-chroma==0.1.0) (3.3.2)\n",
      "Requirement already satisfied: idna<4,>=2.5 in c:\\users\\ldcc\\ideaprojects\\inflearn-llm-application\\.venv\\lib\\site-packages (from requests>=2.28->chromadb<0.5.0,>=0.4.0->langchain-chroma==0.1.0) (3.10)\n",
      "Requirement already satisfied: anyio<5,>=3.4.0 in c:\\users\\ldcc\\ideaprojects\\inflearn-llm-application\\.venv\\lib\\site-packages (from starlette<0.39.0,>=0.37.2->fastapi<1,>=0.95.2->langchain-chroma==0.1.0) (4.6.0)\n",
      "Requirement already satisfied: huggingface-hub<1.0,>=0.16.4 in c:\\users\\ldcc\\ideaprojects\\inflearn-llm-application\\.venv\\lib\\site-packages (from tokenizers>=0.13.2->chromadb<0.5.0,>=0.4.0->langchain-chroma==0.1.0) (0.25.2)\n",
      "Requirement already satisfied: click>=8.0.0 in c:\\users\\ldcc\\ideaprojects\\inflearn-llm-application\\.venv\\lib\\site-packages (from typer>=0.9.0->chromadb<0.5.0,>=0.4.0->langchain-chroma==0.1.0) (8.1.7)\n",
      "Requirement already satisfied: shellingham>=1.3.0 in c:\\users\\ldcc\\ideaprojects\\inflearn-llm-application\\.venv\\lib\\site-packages (from typer>=0.9.0->chromadb<0.5.0,>=0.4.0->langchain-chroma==0.1.0) (1.5.4)\n",
      "Requirement already satisfied: rich>=10.11.0 in c:\\users\\ldcc\\ideaprojects\\inflearn-llm-application\\.venv\\lib\\site-packages (from typer>=0.9.0->chromadb<0.5.0,>=0.4.0->langchain-chroma==0.1.0) (13.9.2)\n",
      "Requirement already satisfied: h11>=0.8 in c:\\users\\ldcc\\ideaprojects\\inflearn-llm-application\\.venv\\lib\\site-packages (from uvicorn>=0.18.3->uvicorn[standard]>=0.18.3->chromadb<0.5.0,>=0.4.0->langchain-chroma==0.1.0) (0.14.0)\n",
      "Requirement already satisfied: httptools>=0.5.0 in c:\\users\\ldcc\\ideaprojects\\inflearn-llm-application\\.venv\\lib\\site-packages (from uvicorn[standard]>=0.18.3->chromadb<0.5.0,>=0.4.0->langchain-chroma==0.1.0) (0.6.1)\n",
      "Requirement already satisfied: python-dotenv>=0.13 in c:\\users\\ldcc\\ideaprojects\\inflearn-llm-application\\.venv\\lib\\site-packages (from uvicorn[standard]>=0.18.3->chromadb<0.5.0,>=0.4.0->langchain-chroma==0.1.0) (1.0.1)\n",
      "Requirement already satisfied: watchfiles>=0.13 in c:\\users\\ldcc\\ideaprojects\\inflearn-llm-application\\.venv\\lib\\site-packages (from uvicorn[standard]>=0.18.3->chromadb<0.5.0,>=0.4.0->langchain-chroma==0.1.0) (0.24.0)\n",
      "Requirement already satisfied: websockets>=10.4 in c:\\users\\ldcc\\ideaprojects\\inflearn-llm-application\\.venv\\lib\\site-packages (from uvicorn[standard]>=0.18.3->chromadb<0.5.0,>=0.4.0->langchain-chroma==0.1.0) (13.1)\n",
      "Requirement already satisfied: sniffio>=1.1 in c:\\users\\ldcc\\ideaprojects\\inflearn-llm-application\\.venv\\lib\\site-packages (from anyio<5,>=3.4.0->starlette<0.39.0,>=0.37.2->fastapi<1,>=0.95.2->langchain-chroma==0.1.0) (1.3.1)\n",
      "Requirement already satisfied: exceptiongroup>=1.0.2 in c:\\users\\ldcc\\ideaprojects\\inflearn-llm-application\\.venv\\lib\\site-packages (from anyio<5,>=3.4.0->starlette<0.39.0,>=0.37.2->fastapi<1,>=0.95.2->langchain-chroma==0.1.0) (1.2.2)\n",
      "Requirement already satisfied: cachetools<6.0,>=2.0.0 in c:\\users\\ldcc\\ideaprojects\\inflearn-llm-application\\.venv\\lib\\site-packages (from google-auth>=1.0.1->kubernetes>=28.1.0->chromadb<0.5.0,>=0.4.0->langchain-chroma==0.1.0) (5.5.0)\n",
      "Requirement already satisfied: pyasn1-modules>=0.2.1 in c:\\users\\ldcc\\ideaprojects\\inflearn-llm-application\\.venv\\lib\\site-packages (from google-auth>=1.0.1->kubernetes>=28.1.0->chromadb<0.5.0,>=0.4.0->langchain-chroma==0.1.0) (0.4.1)\n",
      "Requirement already satisfied: rsa<5,>=3.1.4 in c:\\users\\ldcc\\ideaprojects\\inflearn-llm-application\\.venv\\lib\\site-packages (from google-auth>=1.0.1->kubernetes>=28.1.0->chromadb<0.5.0,>=0.4.0->langchain-chroma==0.1.0) (4.9)\n",
      "Requirement already satisfied: httpcore==1.* in c:\\users\\ldcc\\ideaprojects\\inflearn-llm-application\\.venv\\lib\\site-packages (from httpx<1,>=0.23.0->langsmith<0.2.0,>=0.1.0->langchain-core<0.2.0,>=0.1.40->langchain-chroma==0.1.0) (1.0.6)\n",
      "Requirement already satisfied: filelock in c:\\users\\ldcc\\ideaprojects\\inflearn-llm-application\\.venv\\lib\\site-packages (from huggingface-hub<1.0,>=0.16.4->tokenizers>=0.13.2->chromadb<0.5.0,>=0.4.0->langchain-chroma==0.1.0) (3.16.1)\n",
      "Requirement already satisfied: fsspec>=2023.5.0 in c:\\users\\ldcc\\ideaprojects\\inflearn-llm-application\\.venv\\lib\\site-packages (from huggingface-hub<1.0,>=0.16.4->tokenizers>=0.13.2->chromadb<0.5.0,>=0.4.0->langchain-chroma==0.1.0) (2024.9.0)\n",
      "Requirement already satisfied: zipp>=0.5 in c:\\users\\ldcc\\ideaprojects\\inflearn-llm-application\\.venv\\lib\\site-packages (from importlib-metadata<=8.4.0,>=6.0->opentelemetry-api>=1.2.0->chromadb<0.5.0,>=0.4.0->langchain-chroma==0.1.0) (3.20.2)\n",
      "Requirement already satisfied: markdown-it-py>=2.2.0 in c:\\users\\ldcc\\ideaprojects\\inflearn-llm-application\\.venv\\lib\\site-packages (from rich>=10.11.0->typer>=0.9.0->chromadb<0.5.0,>=0.4.0->langchain-chroma==0.1.0) (3.0.0)\n",
      "Requirement already satisfied: pygments<3.0.0,>=2.13.0 in c:\\users\\ldcc\\ideaprojects\\inflearn-llm-application\\.venv\\lib\\site-packages (from rich>=10.11.0->typer>=0.9.0->chromadb<0.5.0,>=0.4.0->langchain-chroma==0.1.0) (2.18.0)\n",
      "Requirement already satisfied: humanfriendly>=9.1 in c:\\users\\ldcc\\ideaprojects\\inflearn-llm-application\\.venv\\lib\\site-packages (from coloredlogs->onnxruntime>=1.14.1->chromadb<0.5.0,>=0.4.0->langchain-chroma==0.1.0) (10.0)\n",
      "Requirement already satisfied: mpmath<1.4,>=1.1.0 in c:\\users\\ldcc\\ideaprojects\\inflearn-llm-application\\.venv\\lib\\site-packages (from sympy->onnxruntime>=1.14.1->chromadb<0.5.0,>=0.4.0->langchain-chroma==0.1.0) (1.3.0)\n",
      "Requirement already satisfied: pyreadline3 in c:\\users\\ldcc\\ideaprojects\\inflearn-llm-application\\.venv\\lib\\site-packages (from humanfriendly>=9.1->coloredlogs->onnxruntime>=1.14.1->chromadb<0.5.0,>=0.4.0->langchain-chroma==0.1.0) (3.5.4)\n",
      "Requirement already satisfied: mdurl~=0.1 in c:\\users\\ldcc\\ideaprojects\\inflearn-llm-application\\.venv\\lib\\site-packages (from markdown-it-py>=2.2.0->rich>=10.11.0->typer>=0.9.0->chromadb<0.5.0,>=0.4.0->langchain-chroma==0.1.0) (0.1.2)\n",
      "Requirement already satisfied: pyasn1<0.7.0,>=0.4.6 in c:\\users\\ldcc\\ideaprojects\\inflearn-llm-application\\.venv\\lib\\site-packages (from pyasn1-modules>=0.2.1->google-auth>=1.0.1->kubernetes>=28.1.0->chromadb<0.5.0,>=0.4.0->langchain-chroma==0.1.0) (0.6.1)\n",
      "Using cached langchain_core-0.1.52-py3-none-any.whl (302 kB)\n",
      "Installing collected packages: langchain-core\n",
      "  Attempting uninstall: langchain-core\n",
      "    Found existing installation: langchain-core 0.3.10\n",
      "    Uninstalling langchain-core-0.3.10:\n",
      "      Successfully uninstalled langchain-core-0.3.10\n",
      "Successfully installed langchain-core-0.1.52\n",
      "Note: you may need to restart the kernel to use updated packages.\n"
     ]
    },
    {
     "name": "stderr",
     "output_type": "stream",
     "text": [
      "ERROR: pip's dependency resolver does not currently take into account all the packages that are installed. This behaviour is the source of the following dependency conflicts.\n",
      "langchain 0.3.3 requires langchain-core<0.4.0,>=0.3.10, but you have langchain-core 0.1.52 which is incompatible.\n",
      "langchain-community 0.3.1 requires langchain-core<0.4.0,>=0.3.6, but you have langchain-core 0.1.52 which is incompatible.\n",
      "langchain-experimental 0.3.2 requires langchain-core<0.4.0,>=0.3.6, but you have langchain-core 0.1.52 which is incompatible.\n",
      "langchain-openai 0.2.2 requires langchain-core<0.4.0,>=0.3.9, but you have langchain-core 0.1.52 which is incompatible.\n",
      "langchain-pinecone 0.2.0 requires langchain-core<0.4,>=0.3, but you have langchain-core 0.1.52 which is incompatible.\n",
      "langchain-text-splitters 0.3.0 requires langchain-core<0.4.0,>=0.3.0, but you have langchain-core 0.1.52 which is incompatible.\n",
      "langchain-upstage 0.3.0 requires langchain-core<0.4,>=0.3.0, but you have langchain-core 0.1.52 which is incompatible.\n"
     ]
    }
   ],
   "source": [
    "%pip install  langchain-chroma==0.1.0\n"
   ]
  },
  {
   "cell_type": "code",
   "execution_count": 26,
   "metadata": {},
   "outputs": [
    {
     "ename": "ImportError",
     "evalue": "cannot import name 'LangSmithParams' from 'langchain_core.language_models.chat_models' (c:\\Users\\LDCC\\IdeaProjects\\inflearn-llm-application\\.venv\\lib\\site-packages\\langchain_core\\language_models\\chat_models.py)",
     "output_type": "error",
     "traceback": [
      "\u001b[1;31m---------------------------------------------------------------------------\u001b[0m",
      "\u001b[1;31mImportError\u001b[0m                               Traceback (most recent call last)",
      "Cell \u001b[1;32mIn[26], line 3\u001b[0m\n\u001b[0;32m      1\u001b[0m \u001b[38;5;28;01mimport\u001b[39;00m \u001b[38;5;21;01mos\u001b[39;00m\n\u001b[0;32m      2\u001b[0m \u001b[38;5;66;03m# 필요한 라이브러리 임포트\u001b[39;00m\n\u001b[1;32m----> 3\u001b[0m \u001b[38;5;28;01mfrom\u001b[39;00m \u001b[38;5;21;01mlangchain_upstage\u001b[39;00m \u001b[38;5;28;01mimport\u001b[39;00m UpstageEmbeddings\n\u001b[0;32m      4\u001b[0m \u001b[38;5;28;01mfrom\u001b[39;00m \u001b[38;5;21;01mdotenv\u001b[39;00m \u001b[38;5;28;01mimport\u001b[39;00m load_dotenv\n\u001b[0;32m      5\u001b[0m \u001b[38;5;28;01mfrom\u001b[39;00m \u001b[38;5;21;01mlangchain_chroma\u001b[39;00m \u001b[38;5;28;01mimport\u001b[39;00m Chroma\n",
      "File \u001b[1;32mc:\\Users\\LDCC\\IdeaProjects\\inflearn-llm-application\\.venv\\lib\\site-packages\\langchain_upstage\\__init__.py:1\u001b[0m\n\u001b[1;32m----> 1\u001b[0m \u001b[38;5;28;01mfrom\u001b[39;00m \u001b[38;5;21;01mlangchain_upstage\u001b[39;00m\u001b[38;5;21;01m.\u001b[39;00m\u001b[38;5;21;01mchat_models\u001b[39;00m \u001b[38;5;28;01mimport\u001b[39;00m ChatUpstage\n\u001b[0;32m      2\u001b[0m \u001b[38;5;28;01mfrom\u001b[39;00m \u001b[38;5;21;01mlangchain_upstage\u001b[39;00m\u001b[38;5;21;01m.\u001b[39;00m\u001b[38;5;21;01mdocument_parse\u001b[39;00m \u001b[38;5;28;01mimport\u001b[39;00m UpstageDocumentParseLoader\n\u001b[0;32m      3\u001b[0m \u001b[38;5;28;01mfrom\u001b[39;00m \u001b[38;5;21;01mlangchain_upstage\u001b[39;00m\u001b[38;5;21;01m.\u001b[39;00m\u001b[38;5;21;01mdocument_parse_parsers\u001b[39;00m \u001b[38;5;28;01mimport\u001b[39;00m UpstageDocumentParseParser\n",
      "File \u001b[1;32mc:\\Users\\LDCC\\IdeaProjects\\inflearn-llm-application\\.venv\\lib\\site-packages\\langchain_upstage\\chat_models.py:26\u001b[0m\n\u001b[0;32m     21\u001b[0m \u001b[38;5;28;01mfrom\u001b[39;00m \u001b[38;5;21;01mlangchain_core\u001b[39;00m\u001b[38;5;21;01m.\u001b[39;00m\u001b[38;5;21;01mcallbacks\u001b[39;00m \u001b[38;5;28;01mimport\u001b[39;00m (\n\u001b[0;32m     22\u001b[0m     AsyncCallbackManagerForLLMRun,\n\u001b[0;32m     23\u001b[0m     CallbackManagerForLLMRun,\n\u001b[0;32m     24\u001b[0m )\n\u001b[0;32m     25\u001b[0m \u001b[38;5;28;01mfrom\u001b[39;00m \u001b[38;5;21;01mlangchain_core\u001b[39;00m\u001b[38;5;21;01m.\u001b[39;00m\u001b[38;5;21;01mlanguage_models\u001b[39;00m \u001b[38;5;28;01mimport\u001b[39;00m LanguageModelInput\n\u001b[1;32m---> 26\u001b[0m \u001b[38;5;28;01mfrom\u001b[39;00m \u001b[38;5;21;01mlangchain_core\u001b[39;00m\u001b[38;5;21;01m.\u001b[39;00m\u001b[38;5;21;01mlanguage_models\u001b[39;00m\u001b[38;5;21;01m.\u001b[39;00m\u001b[38;5;21;01mchat_models\u001b[39;00m \u001b[38;5;28;01mimport\u001b[39;00m (\n\u001b[0;32m     27\u001b[0m     LangSmithParams,\n\u001b[0;32m     28\u001b[0m     agenerate_from_stream,\n\u001b[0;32m     29\u001b[0m     generate_from_stream,\n\u001b[0;32m     30\u001b[0m )\n\u001b[0;32m     31\u001b[0m \u001b[38;5;28;01mfrom\u001b[39;00m \u001b[38;5;21;01mlangchain_core\u001b[39;00m\u001b[38;5;21;01m.\u001b[39;00m\u001b[38;5;21;01mmessages\u001b[39;00m \u001b[38;5;28;01mimport\u001b[39;00m BaseMessage, HumanMessage\n\u001b[0;32m     32\u001b[0m \u001b[38;5;28;01mfrom\u001b[39;00m \u001b[38;5;21;01mlangchain_core\u001b[39;00m\u001b[38;5;21;01m.\u001b[39;00m\u001b[38;5;21;01moutput_parsers\u001b[39;00m\u001b[38;5;21;01m.\u001b[39;00m\u001b[38;5;21;01mbase\u001b[39;00m \u001b[38;5;28;01mimport\u001b[39;00m OutputParserLike\n",
      "\u001b[1;31mImportError\u001b[0m: cannot import name 'LangSmithParams' from 'langchain_core.language_models.chat_models' (c:\\Users\\LDCC\\IdeaProjects\\inflearn-llm-application\\.venv\\lib\\site-packages\\langchain_core\\language_models\\chat_models.py)"
     ]
    }
   ],
   "source": [
    "import os\n",
    "# 필요한 라이브러리 임포트\n",
    "from langchain_upstage import UpstageEmbeddings\n",
    "from dotenv import load_dotenv\n",
    "from langchain_chroma import Chroma\n",
    "import mysql.connector\n",
    "\n",
    "load_dotenv()\n",
    "\n",
    "# MySQL 데이터베이스 연결 설정\n",
    "db_connection = mysql.connector.connect(\n",
    "    host=\"127.0.0.1\",\n",
    "    user=\"root\",\n",
    "    password=\"0000\",\n",
    "    database=\"world\"\n",
    ")\n",
    "\n",
    "# 커서 생성\n",
    "cursor = db_connection.cursor()\n",
    "\n",
    "# 데이터베이스의 모든 테이블 이름 가져오기\n",
    "cursor.execute(\"SHOW TABLES\")\n",
    "tables = [table[0] for table in cursor.fetchall()]\n",
    "\n",
    "all_docs = []\n",
    "\n",
    "# 각 테이블에 대해 데이터 가져오기\n",
    "for table_name in tables:\n",
    "    cursor.execute(f\"SELECT * FROM {table_name}\")\n",
    "    results = cursor.fetchall()\n",
    "    \n",
    "    # 데이터 전처리 (필요한 경우)\n",
    "    docs = [str(row) for row in results]\n",
    "    all_docs.extend(docs)\n",
    "\n",
    "print(results)\n",
    "print(\"==========================\")\n",
    "print(all_docs)\n",
    "\n",
    "embeddings = UpstageEmbeddings(model='solar-embedding-1-large-query')\n",
    "\n",
    "index_name = \"world-index\"\n",
    "\n",
    "# 문서 임베딩 및 저장\n",
    "Chroma.from_texts(texts=all_docs, \n",
    "                             embedding=embeddings, \n",
    "                             collection_name='chroma-world', \n",
    "                             persist_directory=\"./new-chroma\")\n",
    "\n",
    "# 데이터베이스 연결 종료\n",
    "cursor.close()\n",
    "db_connection.close()"
   ]
  },
  {
   "cell_type": "code",
   "execution_count": 32,
   "metadata": {},
   "outputs": [
    {
     "ename": "NameError",
     "evalue": "name 'world_database' is not defined",
     "output_type": "error",
     "traceback": [
      "\u001b[1;31m---------------------------------------------------------------------------\u001b[0m",
      "\u001b[1;31mNameError\u001b[0m                                 Traceback (most recent call last)",
      "Cell \u001b[1;32mIn[32], line 2\u001b[0m\n\u001b[0;32m      1\u001b[0m query \u001b[38;5;241m=\u001b[39m \u001b[38;5;124m'\u001b[39m\u001b[38;5;124m도시 개수 알려줘\u001b[39m\u001b[38;5;124m'\u001b[39m\n\u001b[1;32m----> 2\u001b[0m retrieved_docs \u001b[38;5;241m=\u001b[39m \u001b[43mworld_database\u001b[49m\u001b[38;5;241m.\u001b[39msimilarity_search(query, k\u001b[38;5;241m=\u001b[39m\u001b[38;5;241m4\u001b[39m)\n",
      "\u001b[1;31mNameError\u001b[0m: name 'world_database' is not defined"
     ]
    }
   ],
   "source": [
    "query = '도시 개수 알려줘'\n",
    "retrieved_docs = world_database.similarity_search(query, k=4)"
   ]
  },
  {
   "cell_type": "code",
   "execution_count": 96,
   "metadata": {},
   "outputs": [
    {
     "data": {
      "text/plain": [
       "[Document(id='92274bfa-27ad-4842-ab8e-cb032e67298b', metadata={}, page_content=\"(85, datetime.datetime(2023, 12, 20, 14, 50, 40), datetime.datetime(2023, 12, 20, 14, 50, 40), 'system', 'system', 1, '262144', 0, 2147479552.0, 8192.0, None, '정수 8192~2147479552', 'read_buffer_size', 'INTEGER', 1)\"),\n",
       " Document(id='0c8b964b-0ace-425b-a212-d9c433899c37', metadata={}, page_content=\"(59, datetime.datetime(2023, 12, 20, 14, 50, 40), datetime.datetime(2023, 12, 20, 14, 50, 40), 'system', 'system', 1, '1048576', 1, 67108864.0, 65536.0, None, '정수 65536~67108864', 'innodb_sort_buffer_size', 'INTEGER', 1)\"),\n",
       " Document(id='77efb3a8-d8b6-47e6-bae8-f33d23254f0c', metadata={}, page_content=\"(65, datetime.datetime(2023, 12, 20, 14, 50, 40), datetime.datetime(2023, 12, 20, 14, 50, 40), 'system', 'system', 1, '16777216', 0, 4294967295.0, 0.0, None, '정수 0~4294967295', 'key_buffer_size', 'INTEGER', 1)\"),\n",
       " Document(id='3f3ed3f3-c6bb-485e-aadc-b3e062da3802', metadata={}, page_content=\"(62, datetime.datetime(2023, 12, 20, 14, 50, 40), datetime.datetime(2023, 12, 20, 14, 50, 40), 'system', 'system', 1, '4', 1, 64.0, 1.0, None, '정수 1~64', 'innodb_write_io_threads', 'INTEGER', 1)\")]"
      ]
     },
     "execution_count": 96,
     "metadata": {},
     "output_type": "execute_result"
    }
   ],
   "source": [
    "retrieved_docs"
   ]
  },
  {
   "cell_type": "code",
   "execution_count": 97,
   "metadata": {},
   "outputs": [],
   "source": [
    "from langchain import hub \n",
    "\n",
    "prompt = hub.pull(\"rlm/rag-prompt\")"
   ]
  },
  {
   "cell_type": "code",
   "execution_count": 98,
   "metadata": {},
   "outputs": [
    {
     "data": {
      "text/plain": [
       "ChatPromptTemplate(input_variables=['context', 'question'], input_types={}, partial_variables={}, metadata={'lc_hub_owner': 'rlm', 'lc_hub_repo': 'rag-prompt', 'lc_hub_commit_hash': '50442af133e61576e74536c6556cefe1fac147cad032f4377b60c436e6cdcb6e'}, messages=[HumanMessagePromptTemplate(prompt=PromptTemplate(input_variables=['context', 'question'], input_types={}, partial_variables={}, template=\"You are an assistant for question-answering tasks. Use the following pieces of retrieved context to answer the question. If you don't know the answer, just say that you don't know. Use three sentences maximum and keep the answer concise.\\nQuestion: {question} \\nContext: {context} \\nAnswer:\"), additional_kwargs={})])"
      ]
     },
     "execution_count": 98,
     "metadata": {},
     "output_type": "execute_result"
    }
   ],
   "source": [
    "prompt"
   ]
  },
  {
   "cell_type": "code",
   "execution_count": 99,
   "metadata": {},
   "outputs": [],
   "source": [
    "from langchain_openai import ChatOpenAI\n",
    "\n",
    "llm = ChatOpenAI(model='gpt-3.5-turbo')"
   ]
  },
  {
   "cell_type": "code",
   "execution_count": 100,
   "metadata": {},
   "outputs": [],
   "source": [
    "from langchain.chains import RetrievalQA\n",
    "\n",
    "qa_chain = RetrievalQA.from_chain_type(\n",
    "    llm, \n",
    "    retriever=database.as_retriever(),\n",
    "    chain_type_kwargs={\"prompt\": prompt}\n",
    ")"
   ]
  },
  {
   "cell_type": "code",
   "execution_count": 101,
   "metadata": {},
   "outputs": [],
   "source": [
    "ai_message = qa_chain({\"query\": query})\n"
   ]
  },
  {
   "cell_type": "code",
   "execution_count": 102,
   "metadata": {},
   "outputs": [
    {
     "data": {
      "text/plain": [
       "{'query': '운영중인 데이터베이서 서버 알려줘',\n",
       " 'result': '운영중인 데이터베이스 서버는 read_buffer_size, innodb_sort_buffer_size, key_buffer_size, read_rnd_buffer_size 입니다.'}"
      ]
     },
     "execution_count": 102,
     "metadata": {},
     "output_type": "execute_result"
    }
   ],
   "source": [
    "ai_message"
   ]
  }
 ],
 "metadata": {
  "kernelspec": {
   "display_name": ".venv",
   "language": "python",
   "name": "python3"
  },
  "language_info": {
   "codemirror_mode": {
    "name": "ipython",
    "version": 3
   },
   "file_extension": ".py",
   "mimetype": "text/x-python",
   "name": "python",
   "nbconvert_exporter": "python",
   "pygments_lexer": "ipython3",
   "version": "3.10.11"
  }
 },
 "nbformat": 4,
 "nbformat_minor": 2
}
